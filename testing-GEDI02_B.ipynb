{
 "cells": [
  {
   "cell_type": "code",
   "execution_count": 5,
   "metadata": {},
   "outputs": [],
   "source": [
    "import h5_to_zarr\n",
    "import fsspec\n",
    "import zarr"
   ]
  },
  {
   "cell_type": "code",
   "execution_count": 7,
   "metadata": {},
   "outputs": [],
   "source": [
    "with fsspec.open('s3://cumulus-map-internal/file-staging/nasa-map/GEDI02_B___001/GEDI02_B_2019120211737_O02159_T02319_02_001_01.h5',\n",
    "                 mode='rb', anon=True,\n",
    "                 default_fill_cache=False) as f:\n",
    "    store = zarr.DirectoryStore('./chunkstore')\n",
    "    h5chunks = h5_to_zarr.Hdf5ToZarr(f, store, xarray=True)\n",
    "    h5chunks.translate()"
   ]
  },
  {
   "cell_type": "code",
   "execution_count": 8,
   "metadata": {},
   "outputs": [
    {
     "data": {
      "text/plain": [
       "<zarr.hierarchy.Group '/'>"
      ]
     },
     "execution_count": 8,
     "metadata": {},
     "output_type": "execute_result"
    }
   ],
   "source": [
    "zarr.convenience.consolidate_metadata(store)"
   ]
  }
 ],
 "metadata": {
  "kernelspec": {
   "display_name": "Python 3",
   "language": "python",
   "name": "python3"
  },
  "language_info": {
   "codemirror_mode": {
    "name": "ipython",
    "version": 3
   },
   "file_extension": ".py",
   "mimetype": "text/x-python",
   "name": "python",
   "nbconvert_exporter": "python",
   "pygments_lexer": "ipython3",
   "version": "3.7.6"
  }
 },
 "nbformat": 4,
 "nbformat_minor": 4
}
