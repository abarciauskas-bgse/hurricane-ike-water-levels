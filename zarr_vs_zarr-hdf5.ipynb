{
 "cells": [
  {
   "cell_type": "markdown",
   "metadata": {},
   "source": [
    "# Zarr vs Zarr-HDF read time comparison\n",
    "Compute the maximum water level during Hurricane Ike on a 9 million node triangular mesh storm surge model.  "
   ]
  },
  {
   "cell_type": "code",
   "execution_count": null,
   "metadata": {},
   "outputs": [],
   "source": [
    "import xarray as xr\n",
    "from dask.distributed import Client, progress, performance_report\n",
    "from dask_kubernetes import KubeCluster\n",
    "import fsspec\n",
    "\n",
    "from zarr.storage import FileChunkStore"
   ]
  },
  {
   "cell_type": "markdown",
   "metadata": {},
   "source": [
    "### Start a dask cluster to crunch the data"
   ]
  },
  {
   "cell_type": "code",
   "execution_count": null,
   "metadata": {},
   "outputs": [],
   "source": [
    "cluster = KubeCluster()"
   ]
  },
  {
   "cell_type": "code",
   "execution_count": null,
   "metadata": {},
   "outputs": [],
   "source": [
    "cluster.scale(30);"
   ]
  },
  {
   "cell_type": "code",
   "execution_count": null,
   "metadata": {},
   "outputs": [],
   "source": [
    "cluster"
   ]
  },
  {
   "cell_type": "code",
   "execution_count": null,
   "metadata": {},
   "outputs": [],
   "source": [
    "client = Client(cluster)"
   ]
  },
  {
   "cell_type": "code",
   "execution_count": null,
   "metadata": {},
   "outputs": [],
   "source": [
    "client"
   ]
  },
  {
   "cell_type": "markdown",
   "metadata": {},
   "source": [
    "### Read the data using the Zarr"
   ]
  },
  {
   "cell_type": "code",
   "execution_count": null,
   "metadata": {},
   "outputs": [],
   "source": [
    "%%time\n",
    "ds = xr.open_zarr(fsspec.get_mapper('s3://pangeo-data-uswest2/esip/adcirc/adcirc_01d', anon=False, requester_pays=True))"
   ]
  },
  {
   "cell_type": "markdown",
   "metadata": {},
   "source": [
    "Compute the max water level at each grid cell (reads all the data):"
   ]
  },
  {
   "cell_type": "code",
   "execution_count": null,
   "metadata": {},
   "outputs": [],
   "source": [
    "%%time\n",
    "with performance_report(filename=\"dask-zarr-report.html\"):\n",
    "    max_var1 = ds['zeta'].max(dim='time').compute()"
   ]
  },
  {
   "cell_type": "markdown",
   "metadata": {},
   "source": [
    "### Read the data using the Zarr-HDF5 Connection\n",
    "\n",
    "The content of the netCDF4 file with the storm surge model output was translated to Zarr metadata but the data in file's variables was not copied over. The generated Zarr metadata has an additional information on where all the chunks are located in the file. Access to these chunks is enabled via a _chunk store_, a different store just for the Zarr array chunks. The _chunk store_, in this case, reads chunk data directly from the netCDF4 file."
   ]
  },
  {
   "cell_type": "code",
   "execution_count": null,
   "metadata": {},
   "outputs": [],
   "source": [
    "%%time\n",
    "store = fsspec.get_mapper('s3://hdf5-zarr/adcirc_01d.nc.chunkstore', anon=True)\n",
    "\n",
    "ncfile = fsspec.open('s3://pangeo-data-uswest2/esip/adcirc/adcirc_01d.nc', mode='rb', \n",
    "                     anon=False, requester_pays=True, default_fill_cache=False)\n",
    "\n",
    "chunk_store = FileChunkStore(store, chunk_source=ncfile.open())\n",
    "\n",
    "ds = xr.open_zarr(store, consolidated=True, chunk_store=chunk_store)"
   ]
  },
  {
   "cell_type": "code",
   "execution_count": null,
   "metadata": {},
   "outputs": [],
   "source": [
    "%%time\n",
    "with performance_report(filename=\"dask-hdf5-report.html\"):\n",
    "    max_var2 = ds['zeta'].max(dim='time').compute()"
   ]
  },
  {
   "cell_type": "markdown",
   "metadata": {},
   "source": [
    "Check a value to see if the two methods match"
   ]
  },
  {
   "cell_type": "code",
   "execution_count": null,
   "metadata": {},
   "outputs": [],
   "source": [
    "max_var1[1000].values"
   ]
  },
  {
   "cell_type": "code",
   "execution_count": null,
   "metadata": {},
   "outputs": [],
   "source": [
    "max_var2[1000].values"
   ]
  }
 ],
 "metadata": {
  "kernelspec": {
   "display_name": "Python 3",
   "language": "python",
   "name": "python3"
  },
  "language_info": {
   "codemirror_mode": {
    "name": "ipython",
    "version": 3
   },
   "file_extension": ".py",
   "mimetype": "text/x-python",
   "name": "python",
   "nbconvert_exporter": "python",
   "pygments_lexer": "ipython3",
   "version": "3.7.6"
  },
  "widgets": {
   "application/vnd.jupyter.widget-state+json": {
    "state": {
     "01fcfe3453574be4ac3d37e28425d0b0": {
      "model_module": "@jupyter-widgets/controls",
      "model_module_version": "1.5.0",
      "model_name": "HBoxModel",
      "state": {
       "children": [
        "IPY_MODEL_fad4f62c9399419993153fb961830488",
        "IPY_MODEL_bdfc56e2940c4c739ff1d5faeec40d7f",
        "IPY_MODEL_14478fbdfc0a4fa9a41fb87209cfb76b"
       ],
       "layout": "IPY_MODEL_dc161608c8bc4a019de49bad6cc0cb2f"
      }
     },
     "04d2019b2c424e49ad84be438b76ec89": {
      "model_module": "@jupyter-widgets/base",
      "model_module_version": "1.2.0",
      "model_name": "LayoutModel",
      "state": {}
     },
     "061e3b19ad0944bb98c6b44bd10a989c": {
      "model_module": "@jupyter-widgets/controls",
      "model_module_version": "1.5.0",
      "model_name": "DescriptionStyleModel",
      "state": {
       "description_width": ""
      }
     },
     "077d5c2a0d3546dcaf5c52166fe1f22b": {
      "model_module": "@jupyter-widgets/controls",
      "model_module_version": "1.5.0",
      "model_name": "IntTextModel",
      "state": {
       "description": "Workers",
       "layout": "IPY_MODEL_c67f4247184e4514bf974e14df8ae7a9",
       "step": 1,
       "style": "IPY_MODEL_99af29a9becd4dc3afbf800522d97026"
      }
     },
     "07b39ec7f9984d4d975a83e143dc6172": {
      "model_module": "@jupyter-widgets/controls",
      "model_module_version": "1.5.0",
      "model_name": "IntTextModel",
      "state": {
       "description": "Maximum",
       "layout": "IPY_MODEL_3ca434c698bb4a888a54af6427e3a4c7",
       "step": 1,
       "style": "IPY_MODEL_ae3338f3970a4c7bb0b7ac615a5238ae"
      }
     },
     "07d213ec9c774483937f447bf3dd86ae": {
      "model_module": "@jupyter-widgets/controls",
      "model_module_version": "1.5.0",
      "model_name": "FloatProgressModel",
      "state": {
       "bar_style": "success",
       "layout": "IPY_MODEL_f860565f03c9460a9fcd197828d4a043",
       "max": 1,
       "style": "IPY_MODEL_86cda597474343f990730a66d71dce98",
       "value": 1
      }
     },
     "0c3940b2272948a1b9dd0b7ce7901cf3": {
      "model_module": "@jupyter-widgets/base",
      "model_module_version": "1.2.0",
      "model_name": "LayoutModel",
      "state": {}
     },
     "13c18d134d3e495b9dff310d81b0c2cc": {
      "model_module": "@jupyter-widgets/controls",
      "model_module_version": "1.5.0",
      "model_name": "HBoxModel",
      "state": {
       "children": [
        "IPY_MODEL_fbf901b76b014589bcd19fb800b66b6a",
        "IPY_MODEL_5b148f98c7da47678f5e38de89b5c215",
        "IPY_MODEL_e667ec2530bb4d9bb801700b164a1ccf"
       ],
       "layout": "IPY_MODEL_6d01a84902be460aa27a72b0da24383a"
      }
     },
     "14478fbdfc0a4fa9a41fb87209cfb76b": {
      "model_module": "@jupyter-widgets/controls",
      "model_module_version": "1.5.0",
      "model_name": "HTMLModel",
      "state": {
       "layout": "IPY_MODEL_6b3abb3e1d9f4a9685960ac30e86037b",
       "style": "IPY_MODEL_4f1f297a1c524a489d284d1f5ebf9f18",
       "value": "<div style=\"padding: 0px 10px 0px 10px; text-align:left; word-wrap: break-word;\">nanmax</div>"
      }
     },
     "14511e290cdf43bab1a81c656bf0aefc": {
      "model_module": "@jupyter-widgets/base",
      "model_module_version": "1.2.0",
      "model_name": "LayoutModel",
      "state": {}
     },
     "14fdab47ae8c404c9731a2d015bf7fee": {
      "model_module": "@jupyter-widgets/controls",
      "model_module_version": "1.5.0",
      "model_name": "HBoxModel",
      "state": {
       "children": [
        "IPY_MODEL_c15eb2b3ca8847d9b1af872e019583f4",
        "IPY_MODEL_cf0a449cea2046f6a33ca2007eee69de",
        "IPY_MODEL_55e8e8ae71f041d1a3eaa0cf6b848642"
       ],
       "layout": "IPY_MODEL_8c6015c3d7604e698318912f87530bab"
      }
     },
     "16786dadcea8412195bede48e8d110d4": {
      "model_module": "@jupyter-widgets/controls",
      "model_module_version": "1.5.0",
      "model_name": "HTMLModel",
      "state": {
       "layout": "IPY_MODEL_14511e290cdf43bab1a81c656bf0aefc",
       "style": "IPY_MODEL_77694b68b009421b95468e726e6c00fc",
       "value": "<div style=\"padding: 0px 10px 0px 10px; text-align:left; word-wrap: break-word;\">nanmax-aggregate</div>"
      }
     },
     "17a6ed6ba13647c390a2823596970f1d": {
      "model_module": "@jupyter-widgets/controls",
      "model_module_version": "1.5.0",
      "model_name": "ProgressStyleModel",
      "state": {
       "description_width": ""
      }
     },
     "198337771f7144b2b69c255c49ed3e2a": {
      "model_module": "@jupyter-widgets/base",
      "model_module_version": "1.2.0",
      "model_name": "LayoutModel",
      "state": {}
     },
     "19cbd86344b74600a4361f37f842e212": {
      "model_module": "@jupyter-widgets/controls",
      "model_module_version": "1.5.0",
      "model_name": "HTMLModel",
      "state": {
       "layout": "IPY_MODEL_45658eda13a14b1d86467a7a72fd3677",
       "style": "IPY_MODEL_9f9365f1a78548de9e8ef23ec2c31c5f",
       "value": "<p><b>Dashboard: </b><a href=\"/user/rsignell-usgs-h-ke-water-levels-fgcwgixn/proxy/8787/status\" target=\"_blank\">/user/rsignell-usgs-h-ke-water-levels-fgcwgixn/proxy/8787/status</a></p>\n"
      }
     },
     "1a5bac5913d54bcb92b88f27fa8ad3e3": {
      "model_module": "@jupyter-widgets/base",
      "model_module_version": "1.2.0",
      "model_name": "LayoutModel",
      "state": {}
     },
     "1b0bd764f1974f2ca5bb310fe9208708": {
      "model_module": "@jupyter-widgets/controls",
      "model_module_version": "1.5.0",
      "model_name": "ButtonStyleModel",
      "state": {}
     },
     "1c8a8108a8074d60bcca05d85424d9ec": {
      "model_module": "@jupyter-widgets/base",
      "model_module_version": "1.2.0",
      "model_name": "LayoutModel",
      "state": {}
     },
     "1d7ed0d13a054956865a9a3b14b70af0": {
      "model_module": "@jupyter-widgets/base",
      "model_module_version": "1.2.0",
      "model_name": "LayoutModel",
      "state": {}
     },
     "20a8bb4121724332a556e3906aa1bbd7": {
      "model_module": "@jupyter-widgets/controls",
      "model_module_version": "1.5.0",
      "model_name": "DescriptionStyleModel",
      "state": {
       "description_width": ""
      }
     },
     "21ff3afbbcbe4f9a92819add7599d64b": {
      "model_module": "@jupyter-widgets/base",
      "model_module_version": "1.2.0",
      "model_name": "LayoutModel",
      "state": {}
     },
     "2334dd91646348518ceb0c8e50675c19": {
      "model_module": "@jupyter-widgets/controls",
      "model_module_version": "1.5.0",
      "model_name": "DescriptionStyleModel",
      "state": {
       "description_width": ""
      }
     },
     "254e3a2e6d2047c9ad8afbc2a2e894dc": {
      "model_module": "@jupyter-widgets/controls",
      "model_module_version": "1.5.0",
      "model_name": "DescriptionStyleModel",
      "state": {
       "description_width": ""
      }
     },
     "2587b46f1029494593df370baf3af340": {
      "model_module": "@jupyter-widgets/controls",
      "model_module_version": "1.5.0",
      "model_name": "FloatProgressModel",
      "state": {
       "bar_style": "success",
       "layout": "IPY_MODEL_1d7ed0d13a054956865a9a3b14b70af0",
       "max": 1,
       "style": "IPY_MODEL_258ed3d3f27549d7818005f6b52449c2",
       "value": 1
      }
     },
     "258ed3d3f27549d7818005f6b52449c2": {
      "model_module": "@jupyter-widgets/controls",
      "model_module_version": "1.5.0",
      "model_name": "ProgressStyleModel",
      "state": {
       "description_width": ""
      }
     },
     "25a84c261f0b452caf25a81a088ba369": {
      "model_module": "@jupyter-widgets/controls",
      "model_module_version": "1.5.0",
      "model_name": "ProgressStyleModel",
      "state": {
       "description_width": ""
      }
     },
     "290d0f4b92f4483ca42ece3d69c9a8df": {
      "model_module": "@jupyter-widgets/base",
      "model_module_version": "1.2.0",
      "model_name": "LayoutModel",
      "state": {}
     },
     "2afdd253f91d4f2699d8e8304c08d6cd": {
      "model_module": "@jupyter-widgets/controls",
      "model_module_version": "1.5.0",
      "model_name": "VBoxModel",
      "state": {
       "children": [
        "IPY_MODEL_51815c4353524c2a8b8beaac913c84b4",
        "IPY_MODEL_01fcfe3453574be4ac3d37e28425d0b0",
        "IPY_MODEL_eb8414bf255d4b11b91ff378ca44a033",
        "IPY_MODEL_13c18d134d3e495b9dff310d81b0c2cc"
       ],
       "layout": "IPY_MODEL_ed98307e48a348e2a2c20060a8c47bce"
      }
     },
     "2ec6202a874e4e72a4d4f0a12ef242a0": {
      "model_module": "@jupyter-widgets/controls",
      "model_module_version": "1.5.0",
      "model_name": "HBoxModel",
      "state": {
       "children": [
        "IPY_MODEL_6a2667550c2a4cb482f515799355737f",
        "IPY_MODEL_6090404403a64908b5a555c061e72a50"
       ],
       "layout": "IPY_MODEL_1a5bac5913d54bcb92b88f27fa8ad3e3"
      }
     },
     "31c7164fc63141378888246dd152f9c3": {
      "model_module": "@jupyter-widgets/controls",
      "model_module_version": "1.5.0",
      "model_name": "DescriptionStyleModel",
      "state": {
       "description_width": ""
      }
     },
     "3209b8b55e3846b39813c89bfddfb56e": {
      "model_module": "@jupyter-widgets/controls",
      "model_module_version": "1.5.0",
      "model_name": "FloatProgressModel",
      "state": {
       "bar_style": "success",
       "layout": "IPY_MODEL_cff9c375be0b4606bea265e723183c9b",
       "max": 1,
       "style": "IPY_MODEL_b8752a39541c4eeaacd65b784c68a5be",
       "value": 1
      }
     },
     "399d01417a014376ba1e5cc4d57f4879": {
      "model_module": "@jupyter-widgets/controls",
      "model_module_version": "1.5.0",
      "model_name": "DescriptionStyleModel",
      "state": {
       "description_width": ""
      }
     },
     "39ff4c94852c4928a3ba4083eaf69303": {
      "model_module": "@jupyter-widgets/controls",
      "model_module_version": "1.5.0",
      "model_name": "DescriptionStyleModel",
      "state": {
       "description_width": ""
      }
     },
     "3ca434c698bb4a888a54af6427e3a4c7": {
      "model_module": "@jupyter-widgets/base",
      "model_module_version": "1.2.0",
      "model_name": "LayoutModel",
      "state": {
       "width": "150px"
      }
     },
     "3d41d8a0e869454ca3c1df8d2858a5db": {
      "model_module": "@jupyter-widgets/controls",
      "model_module_version": "1.5.0",
      "model_name": "DescriptionStyleModel",
      "state": {
       "description_width": ""
      }
     },
     "41b97a4ad5354fa09f20dd171d9efce8": {
      "model_module": "@jupyter-widgets/controls",
      "model_module_version": "1.5.0",
      "model_name": "DescriptionStyleModel",
      "state": {
       "description_width": ""
      }
     },
     "42b6cf7263374878ad008f88edbf7b90": {
      "model_module": "@jupyter-widgets/controls",
      "model_module_version": "1.5.0",
      "model_name": "HTMLModel",
      "state": {
       "layout": "IPY_MODEL_6196503fed59480ea4f3c2e81cf698ff",
       "style": "IPY_MODEL_39ff4c94852c4928a3ba4083eaf69303",
       "value": "<div style=\"padding: 0px 10px 0px 10px; text-align:left; word-wrap: break-word;\">zarr</div>"
      }
     },
     "447f126474da47b08cd3ca26115c2644": {
      "model_module": "@jupyter-widgets/controls",
      "model_module_version": "1.5.0",
      "model_name": "ButtonModel",
      "state": {
       "description": "Adapt",
       "layout": "IPY_MODEL_c67f4247184e4514bf974e14df8ae7a9",
       "style": "IPY_MODEL_1b0bd764f1974f2ca5bb310fe9208708"
      }
     },
     "44abbec0d61c4708889b02967ede647b": {
      "model_module": "@jupyter-widgets/controls",
      "model_module_version": "1.5.0",
      "model_name": "HBoxModel",
      "state": {
       "children": [
        "IPY_MODEL_f289244e80a54bcf90624e4ee5f7e717",
        "IPY_MODEL_07b39ec7f9984d4d975a83e143dc6172",
        "IPY_MODEL_6db98018878a4285a7315c054e183a88"
       ],
       "layout": "IPY_MODEL_ab75b5bfc30b4b7dbff98bd6a1a55b26"
      }
     },
     "45658eda13a14b1d86467a7a72fd3677": {
      "model_module": "@jupyter-widgets/base",
      "model_module_version": "1.2.0",
      "model_name": "LayoutModel",
      "state": {}
     },
     "45f4c5c9c98f449f9d089fc349e27214": {
      "model_module": "@jupyter-widgets/controls",
      "model_module_version": "1.5.0",
      "model_name": "ProgressStyleModel",
      "state": {
       "description_width": ""
      }
     },
     "46244b84c4fa410b957ba71e0a34cb8a": {
      "model_module": "@jupyter-widgets/base",
      "model_module_version": "1.2.0",
      "model_name": "LayoutModel",
      "state": {}
     },
     "4782533256cc42c3903e6a67f568e977": {
      "model_module": "@jupyter-widgets/controls",
      "model_module_version": "1.5.0",
      "model_name": "HTMLModel",
      "state": {
       "layout": "IPY_MODEL_a3167a15ebd3451689ac0968c255ebae",
       "style": "IPY_MODEL_399d01417a014376ba1e5cc4d57f4879",
       "value": "<div style=\"padding: 0px 10px 0px 10px; text-align:left; word-wrap: break-word;\">zarr</div>"
      }
     },
     "49044385caa149e589080f0e27314523": {
      "model_module": "@jupyter-widgets/base",
      "model_module_version": "1.2.0",
      "model_name": "LayoutModel",
      "state": {}
     },
     "4acf4a412c5c4bb6854ea71b46fdee2d": {
      "model_module": "@jupyter-widgets/base",
      "model_module_version": "1.2.0",
      "model_name": "LayoutModel",
      "state": {
       "min_width": "150px"
      }
     },
     "4e4e7214733243c2a46c79973b81ae70": {
      "model_module": "@jupyter-widgets/controls",
      "model_module_version": "1.5.0",
      "model_name": "DescriptionStyleModel",
      "state": {
       "description_width": ""
      }
     },
     "4f1f297a1c524a489d284d1f5ebf9f18": {
      "model_module": "@jupyter-widgets/controls",
      "model_module_version": "1.5.0",
      "model_name": "DescriptionStyleModel",
      "state": {
       "description_width": ""
      }
     },
     "4f69a4c8c1984c66ae14dfd9e7d65601": {
      "model_module": "@jupyter-widgets/base",
      "model_module_version": "1.2.0",
      "model_name": "LayoutModel",
      "state": {}
     },
     "513117387e1d45d7ba718f8b54f5f845": {
      "model_module": "@jupyter-widgets/base",
      "model_module_version": "1.2.0",
      "model_name": "LayoutModel",
      "state": {}
     },
     "51815c4353524c2a8b8beaac913c84b4": {
      "model_module": "@jupyter-widgets/controls",
      "model_module_version": "1.5.0",
      "model_name": "HBoxModel",
      "state": {
       "children": [
        "IPY_MODEL_f5c4287c7e224928a83cb404f12bcf2e",
        "IPY_MODEL_3209b8b55e3846b39813c89bfddfb56e",
        "IPY_MODEL_42b6cf7263374878ad008f88edbf7b90"
       ],
       "layout": "IPY_MODEL_970ee1718f7a4435a323fc7b02b0a8b2"
      }
     },
     "520689ee6b1a4768abb41e6a40bfb9d1": {
      "model_module": "@jupyter-widgets/controls",
      "model_module_version": "1.5.0",
      "model_name": "ProgressStyleModel",
      "state": {
       "description_width": ""
      }
     },
     "5257e06ca43a46a888ad0b8713526b59": {
      "model_module": "@jupyter-widgets/base",
      "model_module_version": "1.2.0",
      "model_name": "LayoutModel",
      "state": {}
     },
     "55a94b77dcaa4559a82c6d9d63d5fc9b": {
      "model_module": "@jupyter-widgets/controls",
      "model_module_version": "1.5.0",
      "model_name": "AccordionModel",
      "state": {
       "_titles": {
        "0": "Manual Scaling",
        "1": "Adaptive Scaling"
       },
       "children": [
        "IPY_MODEL_892317247f9a4f4ca2ccdb92ce49106f",
        "IPY_MODEL_44abbec0d61c4708889b02967ede647b"
       ],
       "layout": "IPY_MODEL_9f41cffb3aea4c9196c416e547897849",
       "selected_index": null
      }
     },
     "55e8e8ae71f041d1a3eaa0cf6b848642": {
      "model_module": "@jupyter-widgets/controls",
      "model_module_version": "1.5.0",
      "model_name": "HTMLModel",
      "state": {
       "layout": "IPY_MODEL_ae2e9fdc14e24ca6b3162bf14d239de2",
       "style": "IPY_MODEL_061e3b19ad0944bb98c6b44bd10a989c",
       "value": "<div style=\"padding: 0px 10px 0px 10px; text-align:left; word-wrap: break-word;\">nanmax</div>"
      }
     },
     "5a946da01d0546e0b64e1b4b662c32e4": {
      "model_module": "@jupyter-widgets/base",
      "model_module_version": "1.2.0",
      "model_name": "LayoutModel",
      "state": {}
     },
     "5aa9e1262d7d43f182ed8e46392dbdee": {
      "model_module": "@jupyter-widgets/base",
      "model_module_version": "1.2.0",
      "model_name": "LayoutModel",
      "state": {
       "min_width": "500px"
      }
     },
     "5ab52130ef9c43a4bf0d252df0230efd": {
      "model_module": "@jupyter-widgets/base",
      "model_module_version": "1.2.0",
      "model_name": "LayoutModel",
      "state": {}
     },
     "5b148f98c7da47678f5e38de89b5c215": {
      "model_module": "@jupyter-widgets/controls",
      "model_module_version": "1.5.0",
      "model_name": "FloatProgressModel",
      "state": {
       "bar_style": "success",
       "layout": "IPY_MODEL_6ac5bb449ff240958a595f2945a0116f",
       "max": 1,
       "style": "IPY_MODEL_9c95f8d4855e4dca878a079683fff1bf",
       "value": 1
      }
     },
     "5b6ec018f5b4431bb72b74396104d5db": {
      "model_module": "@jupyter-widgets/controls",
      "model_module_version": "1.5.0",
      "model_name": "VBoxModel",
      "state": {
       "children": [
        "IPY_MODEL_7bacbb75886541f6b9082472f3befaf7",
        "IPY_MODEL_14fdab47ae8c404c9731a2d015bf7fee",
        "IPY_MODEL_bfbe2870f81246989cd15cbeb5ccde92",
        "IPY_MODEL_965208081fe14ed69f620152806251b1"
       ],
       "layout": "IPY_MODEL_940eb1f376b44d81b88e7dad912a4c9e"
      }
     },
     "5bcc30cddc324a709c7786b66cb2b84f": {
      "model_module": "@jupyter-widgets/base",
      "model_module_version": "1.2.0",
      "model_name": "LayoutModel",
      "state": {}
     },
     "5f3270efafd84a80a94eb7a3e834faa4": {
      "model_module": "@jupyter-widgets/base",
      "model_module_version": "1.2.0",
      "model_name": "LayoutModel",
      "state": {}
     },
     "6090404403a64908b5a555c061e72a50": {
      "model_module": "@jupyter-widgets/controls",
      "model_module_version": "1.5.0",
      "model_name": "AccordionModel",
      "state": {
       "_titles": {
        "0": "Manual Scaling",
        "1": "Adaptive Scaling"
       },
       "children": [
        "IPY_MODEL_c76740c9c6344e79b056f234945438fb",
        "IPY_MODEL_92e663fba9974b3e8132742721ccfdc4"
       ],
       "layout": "IPY_MODEL_5aa9e1262d7d43f182ed8e46392dbdee",
       "selected_index": null
      }
     },
     "6188678c53014cd3a42c101284e15f2b": {
      "model_module": "@jupyter-widgets/base",
      "model_module_version": "1.2.0",
      "model_name": "LayoutModel",
      "state": {}
     },
     "6196503fed59480ea4f3c2e81cf698ff": {
      "model_module": "@jupyter-widgets/base",
      "model_module_version": "1.2.0",
      "model_name": "LayoutModel",
      "state": {}
     },
     "61e851f193c14db899080397c3637c40": {
      "model_module": "@jupyter-widgets/controls",
      "model_module_version": "1.5.0",
      "model_name": "ButtonStyleModel",
      "state": {}
     },
     "67b50bf2dfa243be9259fb2bd3630bd1": {
      "model_module": "@jupyter-widgets/controls",
      "model_module_version": "1.5.0",
      "model_name": "VBoxModel",
      "state": {
       "children": [
        "IPY_MODEL_c9a88b5601ea479e9d44183b90815b73",
        "IPY_MODEL_5b6ec018f5b4431bb72b74396104d5db"
       ],
       "layout": "IPY_MODEL_d299dfb8bbf24365a17821105565dd02"
      }
     },
     "6a2667550c2a4cb482f515799355737f": {
      "model_module": "@jupyter-widgets/controls",
      "model_module_version": "1.5.0",
      "model_name": "HTMLModel",
      "state": {
       "layout": "IPY_MODEL_b80e29555c094ad088824526ac9b6686",
       "style": "IPY_MODEL_e59ba99ac1e642bdb42f238501e5cd45",
       "value": "\n<div>\n  <style scoped>\n    .dataframe tbody tr th:only-of-type {\n        vertical-align: middle;\n    }\n\n    .dataframe tbody tr th {\n        vertical-align: top;\n    }\n\n    .dataframe thead th {\n        text-align: right;\n    }\n  </style>\n  <table style=\"text-align: right;\">\n    <tr> <th>Workers</th> <td>30</td></tr>\n    <tr> <th>Cores</th> <td>60</td></tr>\n    <tr> <th>Memory</th> <td>210.00 GB</td></tr>\n  </table>\n</div>\n"
      }
     },
     "6ac5bb449ff240958a595f2945a0116f": {
      "model_module": "@jupyter-widgets/base",
      "model_module_version": "1.2.0",
      "model_name": "LayoutModel",
      "state": {}
     },
     "6b3abb3e1d9f4a9685960ac30e86037b": {
      "model_module": "@jupyter-widgets/base",
      "model_module_version": "1.2.0",
      "model_name": "LayoutModel",
      "state": {}
     },
     "6d01a84902be460aa27a72b0da24383a": {
      "model_module": "@jupyter-widgets/base",
      "model_module_version": "1.2.0",
      "model_name": "LayoutModel",
      "state": {}
     },
     "6db98018878a4285a7315c054e183a88": {
      "model_module": "@jupyter-widgets/controls",
      "model_module_version": "1.5.0",
      "model_name": "ButtonModel",
      "state": {
       "description": "Adapt",
       "layout": "IPY_MODEL_3ca434c698bb4a888a54af6427e3a4c7",
       "style": "IPY_MODEL_f2cc50fbdc8040aca0eb433c183b6485"
      }
     },
     "72a8a02431f9451fa5b54fd29c858008": {
      "model_module": "@jupyter-widgets/controls",
      "model_module_version": "1.5.0",
      "model_name": "IntTextModel",
      "state": {
       "description": "Workers",
       "layout": "IPY_MODEL_3ca434c698bb4a888a54af6427e3a4c7",
       "step": 1,
       "style": "IPY_MODEL_a26f9d2c6b7b47c8b571526f1408789a"
      }
     },
     "72dd87a1b30c4e358388d07a5318686b": {
      "model_module": "@jupyter-widgets/controls",
      "model_module_version": "1.5.0",
      "model_name": "ButtonModel",
      "state": {
       "description": "Scale",
       "layout": "IPY_MODEL_c67f4247184e4514bf974e14df8ae7a9",
       "style": "IPY_MODEL_61e851f193c14db899080397c3637c40"
      }
     },
     "73489cc81b674c099c183542cc4cde8d": {
      "model_module": "@jupyter-widgets/controls",
      "model_module_version": "1.5.0",
      "model_name": "HTMLModel",
      "state": {
       "layout": "IPY_MODEL_5ab52130ef9c43a4bf0d252df0230efd",
       "style": "IPY_MODEL_b6ed13ff28a0480395a3c26634e91cac",
       "value": "<div style=\"padding: 0px 10px 0px 10px; text-align: right\">1560 / 1560</div>"
      }
     },
     "754e0afa579c44a3abb32b1eba31736a": {
      "model_module": "@jupyter-widgets/controls",
      "model_module_version": "1.5.0",
      "model_name": "HTMLModel",
      "state": {
       "layout": "IPY_MODEL_21ff3afbbcbe4f9a92819add7599d64b",
       "style": "IPY_MODEL_f0370c91d5b942a598d761e971f845ed",
       "value": "<h2>KubeCluster</h2>"
      }
     },
     "77694b68b009421b95468e726e6c00fc": {
      "model_module": "@jupyter-widgets/controls",
      "model_module_version": "1.5.0",
      "model_name": "DescriptionStyleModel",
      "state": {
       "description_width": ""
      }
     },
     "78f91f7bec794354a5e7971cda40b1ab": {
      "model_module": "@jupyter-widgets/controls",
      "model_module_version": "1.5.0",
      "model_name": "IntTextModel",
      "state": {
       "description": "Maximum",
       "layout": "IPY_MODEL_c67f4247184e4514bf974e14df8ae7a9",
       "step": 1,
       "style": "IPY_MODEL_3d41d8a0e869454ca3c1df8d2858a5db"
      }
     },
     "7a25ff623e6948bcb52a76c4a375645b": {
      "model_module": "@jupyter-widgets/base",
      "model_module_version": "1.2.0",
      "model_name": "LayoutModel",
      "state": {}
     },
     "7bacbb75886541f6b9082472f3befaf7": {
      "model_module": "@jupyter-widgets/controls",
      "model_module_version": "1.5.0",
      "model_name": "HBoxModel",
      "state": {
       "children": [
        "IPY_MODEL_d00f87cb80eb462aa6bd5190ccaf3cda",
        "IPY_MODEL_8af817497b5a4025835a6be94e5e4dbe",
        "IPY_MODEL_4782533256cc42c3903e6a67f568e977"
       ],
       "layout": "IPY_MODEL_e6479441b83340aea9a4a5db29af0aaf"
      }
     },
     "7c7705497a2a444bb0ab147da79f9922": {
      "model_module": "@jupyter-widgets/controls",
      "model_module_version": "1.5.0",
      "model_name": "DescriptionStyleModel",
      "state": {
       "description_width": ""
      }
     },
     "7e622c5f8a8944838e5be76c91c52563": {
      "model_module": "@jupyter-widgets/controls",
      "model_module_version": "1.5.0",
      "model_name": "DescriptionStyleModel",
      "state": {
       "description_width": ""
      }
     },
     "7ff152f5dd634bbfbc4a7c37a728f29d": {
      "model_module": "@jupyter-widgets/controls",
      "model_module_version": "1.5.0",
      "model_name": "DescriptionStyleModel",
      "state": {
       "description_width": ""
      }
     },
     "82067ceccd114f81b85d6b78848fa45a": {
      "model_module": "@jupyter-widgets/base",
      "model_module_version": "1.2.0",
      "model_name": "LayoutModel",
      "state": {}
     },
     "83268aac72194c14a848e95024d2135c": {
      "model_module": "@jupyter-widgets/base",
      "model_module_version": "1.2.0",
      "model_name": "LayoutModel",
      "state": {}
     },
     "86cda597474343f990730a66d71dce98": {
      "model_module": "@jupyter-widgets/controls",
      "model_module_version": "1.5.0",
      "model_name": "ProgressStyleModel",
      "state": {
       "description_width": ""
      }
     },
     "892317247f9a4f4ca2ccdb92ce49106f": {
      "model_module": "@jupyter-widgets/controls",
      "model_module_version": "1.5.0",
      "model_name": "HBoxModel",
      "state": {
       "children": [
        "IPY_MODEL_72a8a02431f9451fa5b54fd29c858008",
        "IPY_MODEL_c395b014fa91428c8ff70b733bad0446"
       ],
       "layout": "IPY_MODEL_04d2019b2c424e49ad84be438b76ec89"
      }
     },
     "8aacd84cd3d643049afa436d7e907654": {
      "model_module": "@jupyter-widgets/base",
      "model_module_version": "1.2.0",
      "model_name": "LayoutModel",
      "state": {}
     },
     "8af817497b5a4025835a6be94e5e4dbe": {
      "model_module": "@jupyter-widgets/controls",
      "model_module_version": "1.5.0",
      "model_name": "FloatProgressModel",
      "state": {
       "bar_style": "success",
       "layout": "IPY_MODEL_f450a4fb334a4e31a7957f6ef935d62a",
       "max": 1,
       "style": "IPY_MODEL_45f4c5c9c98f449f9d089fc349e27214",
       "value": 1
      }
     },
     "8c6015c3d7604e698318912f87530bab": {
      "model_module": "@jupyter-widgets/base",
      "model_module_version": "1.2.0",
      "model_name": "LayoutModel",
      "state": {}
     },
     "908acaee80b340f7ab101498e331a686": {
      "model_module": "@jupyter-widgets/controls",
      "model_module_version": "1.5.0",
      "model_name": "IntTextModel",
      "state": {
       "description": "Minimum",
       "layout": "IPY_MODEL_c67f4247184e4514bf974e14df8ae7a9",
       "step": 1,
       "style": "IPY_MODEL_a0a4d782f93f4e7dbc86ce5b7160650f"
      }
     },
     "92e663fba9974b3e8132742721ccfdc4": {
      "model_module": "@jupyter-widgets/controls",
      "model_module_version": "1.5.0",
      "model_name": "HBoxModel",
      "state": {
       "children": [
        "IPY_MODEL_908acaee80b340f7ab101498e331a686",
        "IPY_MODEL_78f91f7bec794354a5e7971cda40b1ab",
        "IPY_MODEL_447f126474da47b08cd3ca26115c2644"
       ],
       "layout": "IPY_MODEL_0c3940b2272948a1b9dd0b7ce7901cf3"
      }
     },
     "940eb1f376b44d81b88e7dad912a4c9e": {
      "model_module": "@jupyter-widgets/base",
      "model_module_version": "1.2.0",
      "model_name": "LayoutModel",
      "state": {}
     },
     "950787a0bc8e4a22a5da0e30d808d266": {
      "model_module": "@jupyter-widgets/controls",
      "model_module_version": "1.5.0",
      "model_name": "HTMLModel",
      "state": {
       "layout": "IPY_MODEL_6188678c53014cd3a42c101284e15f2b",
       "style": "IPY_MODEL_41b97a4ad5354fa09f20dd171d9efce8",
       "value": "<div style=\"padding: 0px 10px 5px 10px\"><b>Finished:</b> 37.0s</div>"
      }
     },
     "965208081fe14ed69f620152806251b1": {
      "model_module": "@jupyter-widgets/controls",
      "model_module_version": "1.5.0",
      "model_name": "HBoxModel",
      "state": {
       "children": [
        "IPY_MODEL_f1f974bd02ca485da5f00855978d99ca",
        "IPY_MODEL_2587b46f1029494593df370baf3af340",
        "IPY_MODEL_16786dadcea8412195bede48e8d110d4"
       ],
       "layout": "IPY_MODEL_82067ceccd114f81b85d6b78848fa45a"
      }
     },
     "970ee1718f7a4435a323fc7b02b0a8b2": {
      "model_module": "@jupyter-widgets/base",
      "model_module_version": "1.2.0",
      "model_name": "LayoutModel",
      "state": {}
     },
     "99af29a9becd4dc3afbf800522d97026": {
      "model_module": "@jupyter-widgets/controls",
      "model_module_version": "1.5.0",
      "model_name": "DescriptionStyleModel",
      "state": {
       "description_width": ""
      }
     },
     "99ee9fb22c5046039e85d4f6344b1a87": {
      "model_module": "@jupyter-widgets/controls",
      "model_module_version": "1.5.0",
      "model_name": "DescriptionStyleModel",
      "state": {
       "description_width": ""
      }
     },
     "9c95f8d4855e4dca878a079683fff1bf": {
      "model_module": "@jupyter-widgets/controls",
      "model_module_version": "1.5.0",
      "model_name": "ProgressStyleModel",
      "state": {
       "description_width": ""
      }
     },
     "9f41cffb3aea4c9196c416e547897849": {
      "model_module": "@jupyter-widgets/base",
      "model_module_version": "1.2.0",
      "model_name": "LayoutModel",
      "state": {
       "min_width": "500px"
      }
     },
     "9f9365f1a78548de9e8ef23ec2c31c5f": {
      "model_module": "@jupyter-widgets/controls",
      "model_module_version": "1.5.0",
      "model_name": "DescriptionStyleModel",
      "state": {
       "description_width": ""
      }
     },
     "a0a4d782f93f4e7dbc86ce5b7160650f": {
      "model_module": "@jupyter-widgets/controls",
      "model_module_version": "1.5.0",
      "model_name": "DescriptionStyleModel",
      "state": {
       "description_width": ""
      }
     },
     "a26f9d2c6b7b47c8b571526f1408789a": {
      "model_module": "@jupyter-widgets/controls",
      "model_module_version": "1.5.0",
      "model_name": "DescriptionStyleModel",
      "state": {
       "description_width": ""
      }
     },
     "a3167a15ebd3451689ac0968c255ebae": {
      "model_module": "@jupyter-widgets/base",
      "model_module_version": "1.2.0",
      "model_name": "LayoutModel",
      "state": {}
     },
     "a33c1d9bf47741e6877f6a09923ed845": {
      "model_module": "@jupyter-widgets/controls",
      "model_module_version": "1.5.0",
      "model_name": "HTMLModel",
      "state": {
       "layout": "IPY_MODEL_f2942b13497a4940b9ae59f9573dd8de",
       "style": "IPY_MODEL_4e4e7214733243c2a46c79973b81ae70",
       "value": "<div style=\"padding: 0px 10px 0px 10px; text-align:left; word-wrap: break-word;\">nanmax-partial</div>"
      }
     },
     "a74db149a62140d8bdd0b3ffa3d6b9de": {
      "model_module": "@jupyter-widgets/controls",
      "model_module_version": "1.5.0",
      "model_name": "DescriptionStyleModel",
      "state": {
       "description_width": ""
      }
     },
     "ab75b5bfc30b4b7dbff98bd6a1a55b26": {
      "model_module": "@jupyter-widgets/base",
      "model_module_version": "1.2.0",
      "model_name": "LayoutModel",
      "state": {}
     },
     "ae2e9fdc14e24ca6b3162bf14d239de2": {
      "model_module": "@jupyter-widgets/base",
      "model_module_version": "1.2.0",
      "model_name": "LayoutModel",
      "state": {}
     },
     "ae3338f3970a4c7bb0b7ac615a5238ae": {
      "model_module": "@jupyter-widgets/controls",
      "model_module_version": "1.5.0",
      "model_name": "DescriptionStyleModel",
      "state": {
       "description_width": ""
      }
     },
     "af1d40c2689f4c7b85fa15dd65f610b6": {
      "model_module": "@jupyter-widgets/controls",
      "model_module_version": "1.5.0",
      "model_name": "HTMLModel",
      "state": {
       "layout": "IPY_MODEL_49044385caa149e589080f0e27314523",
       "style": "IPY_MODEL_7e622c5f8a8944838e5be76c91c52563",
       "value": "<h2>KubeCluster</h2>"
      }
     },
     "afc1315077c04916bee32e2c2646d5d4": {
      "model_module": "@jupyter-widgets/controls",
      "model_module_version": "1.5.0",
      "model_name": "FloatProgressModel",
      "state": {
       "bar_style": "success",
       "layout": "IPY_MODEL_b327237ab472404e9b3677ddd0c4325d",
       "max": 1,
       "style": "IPY_MODEL_520689ee6b1a4768abb41e6a40bfb9d1",
       "value": 1
      }
     },
     "b30634abf2ee46ca88176a7578b31da7": {
      "model_module": "@jupyter-widgets/controls",
      "model_module_version": "1.5.0",
      "model_name": "VBoxModel",
      "state": {
       "children": [
        "IPY_MODEL_950787a0bc8e4a22a5da0e30d808d266",
        "IPY_MODEL_2afdd253f91d4f2699d8e8304c08d6cd"
       ],
       "layout": "IPY_MODEL_d6f2c5ec10a2435d97381cc22f8cb963"
      }
     },
     "b327237ab472404e9b3677ddd0c4325d": {
      "model_module": "@jupyter-widgets/base",
      "model_module_version": "1.2.0",
      "model_name": "LayoutModel",
      "state": {}
     },
     "b6ed13ff28a0480395a3c26634e91cac": {
      "model_module": "@jupyter-widgets/controls",
      "model_module_version": "1.5.0",
      "model_name": "DescriptionStyleModel",
      "state": {
       "description_width": ""
      }
     },
     "b750608fdd904e73848947e0aa0bae1e": {
      "model_module": "@jupyter-widgets/controls",
      "model_module_version": "1.5.0",
      "model_name": "HTMLModel",
      "state": {
       "layout": "IPY_MODEL_8aacd84cd3d643049afa436d7e907654",
       "style": "IPY_MODEL_7ff152f5dd634bbfbc4a7c37a728f29d",
       "value": "<div style=\"padding: 0px 10px 0px 10px; text-align: right\">1560 / 1560</div>"
      }
     },
     "b80e29555c094ad088824526ac9b6686": {
      "model_module": "@jupyter-widgets/base",
      "model_module_version": "1.2.0",
      "model_name": "LayoutModel",
      "state": {
       "min_width": "150px"
      }
     },
     "b8752a39541c4eeaacd65b784c68a5be": {
      "model_module": "@jupyter-widgets/controls",
      "model_module_version": "1.5.0",
      "model_name": "ProgressStyleModel",
      "state": {
       "description_width": ""
      }
     },
     "bdfc56e2940c4c739ff1d5faeec40d7f": {
      "model_module": "@jupyter-widgets/controls",
      "model_module_version": "1.5.0",
      "model_name": "FloatProgressModel",
      "state": {
       "bar_style": "success",
       "layout": "IPY_MODEL_1c8a8108a8074d60bcca05d85424d9ec",
       "max": 1,
       "style": "IPY_MODEL_17a6ed6ba13647c390a2823596970f1d",
       "value": 1
      }
     },
     "be383dd316be43b194363fdb6537fa8e": {
      "model_module": "@jupyter-widgets/controls",
      "model_module_version": "1.5.0",
      "model_name": "VBoxModel",
      "state": {
       "children": [
        "IPY_MODEL_af1d40c2689f4c7b85fa15dd65f610b6",
        "IPY_MODEL_e415c923c3dc414aa2a17aae43a02191",
        "IPY_MODEL_19cbd86344b74600a4361f37f842e212"
       ],
       "layout": "IPY_MODEL_5bcc30cddc324a709c7786b66cb2b84f"
      }
     },
     "bfbe2870f81246989cd15cbeb5ccde92": {
      "model_module": "@jupyter-widgets/controls",
      "model_module_version": "1.5.0",
      "model_name": "HBoxModel",
      "state": {
       "children": [
        "IPY_MODEL_73489cc81b674c099c183542cc4cde8d",
        "IPY_MODEL_07d213ec9c774483937f447bf3dd86ae",
        "IPY_MODEL_cfd949b4e0154e3f8ec5025d34503dd7"
       ],
       "layout": "IPY_MODEL_290d0f4b92f4483ca42ece3d69c9a8df"
      }
     },
     "c15eb2b3ca8847d9b1af872e019583f4": {
      "model_module": "@jupyter-widgets/controls",
      "model_module_version": "1.5.0",
      "model_name": "HTMLModel",
      "state": {
       "layout": "IPY_MODEL_7a25ff623e6948bcb52a76c4a375645b",
       "style": "IPY_MODEL_ff7b8038de9740508084b810f37d68bc",
       "value": "<div style=\"padding: 0px 10px 0px 10px; text-align: right\">4680 / 4680</div>"
      }
     },
     "c26b6a857a4f4a6ba3888dcfc228c03e": {
      "model_module": "@jupyter-widgets/base",
      "model_module_version": "1.2.0",
      "model_name": "LayoutModel",
      "state": {}
     },
     "c395b014fa91428c8ff70b733bad0446": {
      "model_module": "@jupyter-widgets/controls",
      "model_module_version": "1.5.0",
      "model_name": "ButtonModel",
      "state": {
       "description": "Scale",
       "layout": "IPY_MODEL_3ca434c698bb4a888a54af6427e3a4c7",
       "style": "IPY_MODEL_c69b5df9542f40bd9b9bee0febdc6ef3"
      }
     },
     "c67f4247184e4514bf974e14df8ae7a9": {
      "model_module": "@jupyter-widgets/base",
      "model_module_version": "1.2.0",
      "model_name": "LayoutModel",
      "state": {
       "width": "150px"
      }
     },
     "c69b5df9542f40bd9b9bee0febdc6ef3": {
      "model_module": "@jupyter-widgets/controls",
      "model_module_version": "1.5.0",
      "model_name": "ButtonStyleModel",
      "state": {}
     },
     "c76740c9c6344e79b056f234945438fb": {
      "model_module": "@jupyter-widgets/controls",
      "model_module_version": "1.5.0",
      "model_name": "HBoxModel",
      "state": {
       "children": [
        "IPY_MODEL_077d5c2a0d3546dcaf5c52166fe1f22b",
        "IPY_MODEL_72dd87a1b30c4e358388d07a5318686b"
       ],
       "layout": "IPY_MODEL_c26b6a857a4f4a6ba3888dcfc228c03e"
      }
     },
     "c9a88b5601ea479e9d44183b90815b73": {
      "model_module": "@jupyter-widgets/controls",
      "model_module_version": "1.5.0",
      "model_name": "HTMLModel",
      "state": {
       "layout": "IPY_MODEL_f30283674ce845f2bc15fe4f8705fc37",
       "style": "IPY_MODEL_20a8bb4121724332a556e3906aa1bbd7",
       "value": "<div style=\"padding: 0px 10px 5px 10px\"><b>Finished:</b>  1min 29.5s</div>"
      }
     },
     "ca87311e69644740b5fbb4c1d76086d0": {
      "model_module": "@jupyter-widgets/base",
      "model_module_version": "1.2.0",
      "model_name": "LayoutModel",
      "state": {}
     },
     "cc88f89404f84fcfbf0ee2f4add73c77": {
      "model_module": "@jupyter-widgets/base",
      "model_module_version": "1.2.0",
      "model_name": "LayoutModel",
      "state": {}
     },
     "cf0a449cea2046f6a33ca2007eee69de": {
      "model_module": "@jupyter-widgets/controls",
      "model_module_version": "1.5.0",
      "model_name": "FloatProgressModel",
      "state": {
       "bar_style": "success",
       "layout": "IPY_MODEL_5a946da01d0546e0b64e1b4b662c32e4",
       "max": 1,
       "style": "IPY_MODEL_25a84c261f0b452caf25a81a088ba369",
       "value": 1
      }
     },
     "cfd949b4e0154e3f8ec5025d34503dd7": {
      "model_module": "@jupyter-widgets/controls",
      "model_module_version": "1.5.0",
      "model_name": "HTMLModel",
      "state": {
       "layout": "IPY_MODEL_5257e06ca43a46a888ad0b8713526b59",
       "style": "IPY_MODEL_2334dd91646348518ceb0c8e50675c19",
       "value": "<div style=\"padding: 0px 10px 0px 10px; text-align:left; word-wrap: break-word;\">nanmax-partial</div>"
      }
     },
     "cff9c375be0b4606bea265e723183c9b": {
      "model_module": "@jupyter-widgets/base",
      "model_module_version": "1.2.0",
      "model_name": "LayoutModel",
      "state": {}
     },
     "d00f87cb80eb462aa6bd5190ccaf3cda": {
      "model_module": "@jupyter-widgets/controls",
      "model_module_version": "1.5.0",
      "model_name": "HTMLModel",
      "state": {
       "layout": "IPY_MODEL_198337771f7144b2b69c255c49ed3e2a",
       "style": "IPY_MODEL_7c7705497a2a444bb0ab147da79f9922",
       "value": "<div style=\"padding: 0px 10px 0px 10px; text-align: right\">4813 / 4813</div>"
      }
     },
     "d299dfb8bbf24365a17821105565dd02": {
      "model_module": "@jupyter-widgets/base",
      "model_module_version": "1.2.0",
      "model_name": "LayoutModel",
      "state": {}
     },
     "d37fb3ecbbb14555b020111b7fb1d6e4": {
      "model_module": "@jupyter-widgets/base",
      "model_module_version": "1.2.0",
      "model_name": "LayoutModel",
      "state": {}
     },
     "d491c10e7f9c4c65bf35df80c5721fd9": {
      "model_module": "@jupyter-widgets/controls",
      "model_module_version": "1.5.0",
      "model_name": "DescriptionStyleModel",
      "state": {
       "description_width": ""
      }
     },
     "d665407811f84d80b15ee4c12148fca0": {
      "model_module": "@jupyter-widgets/controls",
      "model_module_version": "1.5.0",
      "model_name": "DescriptionStyleModel",
      "state": {
       "description_width": ""
      }
     },
     "d6f2c5ec10a2435d97381cc22f8cb963": {
      "model_module": "@jupyter-widgets/base",
      "model_module_version": "1.2.0",
      "model_name": "LayoutModel",
      "state": {}
     },
     "d9962513f16d417d8138e25ab85da0b2": {
      "model_module": "@jupyter-widgets/controls",
      "model_module_version": "1.5.0",
      "model_name": "DescriptionStyleModel",
      "state": {
       "description_width": ""
      }
     },
     "dc161608c8bc4a019de49bad6cc0cb2f": {
      "model_module": "@jupyter-widgets/base",
      "model_module_version": "1.2.0",
      "model_name": "LayoutModel",
      "state": {}
     },
     "dd25cdc4e80c4cc787928394e6118dbd": {
      "model_module": "@jupyter-widgets/controls",
      "model_module_version": "1.5.0",
      "model_name": "VBoxModel",
      "state": {
       "children": [
        "IPY_MODEL_754e0afa579c44a3abb32b1eba31736a",
        "IPY_MODEL_2ec6202a874e4e72a4d4f0a12ef242a0",
        "IPY_MODEL_f1707986ffc747dda0f4997108485ec3"
       ],
       "layout": "IPY_MODEL_cc88f89404f84fcfbf0ee2f4add73c77"
      }
     },
     "df5fe18cd57141db86d43128f4375603": {
      "model_module": "@jupyter-widgets/controls",
      "model_module_version": "1.5.0",
      "model_name": "DescriptionStyleModel",
      "state": {
       "description_width": ""
      }
     },
     "e052e2f6b3fe49eb972493308248b005": {
      "model_module": "@jupyter-widgets/base",
      "model_module_version": "1.2.0",
      "model_name": "LayoutModel",
      "state": {}
     },
     "e415c923c3dc414aa2a17aae43a02191": {
      "model_module": "@jupyter-widgets/controls",
      "model_module_version": "1.5.0",
      "model_name": "HBoxModel",
      "state": {
       "children": [
        "IPY_MODEL_f7323c7f519f4836bac9bce7a3427d89",
        "IPY_MODEL_55a94b77dcaa4559a82c6d9d63d5fc9b"
       ],
       "layout": "IPY_MODEL_5f3270efafd84a80a94eb7a3e834faa4"
      }
     },
     "e59ba99ac1e642bdb42f238501e5cd45": {
      "model_module": "@jupyter-widgets/controls",
      "model_module_version": "1.5.0",
      "model_name": "DescriptionStyleModel",
      "state": {
       "description_width": ""
      }
     },
     "e6479441b83340aea9a4a5db29af0aaf": {
      "model_module": "@jupyter-widgets/base",
      "model_module_version": "1.2.0",
      "model_name": "LayoutModel",
      "state": {}
     },
     "e667ec2530bb4d9bb801700b164a1ccf": {
      "model_module": "@jupyter-widgets/controls",
      "model_module_version": "1.5.0",
      "model_name": "HTMLModel",
      "state": {
       "layout": "IPY_MODEL_513117387e1d45d7ba718f8b54f5f845",
       "style": "IPY_MODEL_d665407811f84d80b15ee4c12148fca0",
       "value": "<div style=\"padding: 0px 10px 0px 10px; text-align:left; word-wrap: break-word;\">nanmax-aggregate</div>"
      }
     },
     "eb8414bf255d4b11b91ff378ca44a033": {
      "model_module": "@jupyter-widgets/controls",
      "model_module_version": "1.5.0",
      "model_name": "HBoxModel",
      "state": {
       "children": [
        "IPY_MODEL_b750608fdd904e73848947e0aa0bae1e",
        "IPY_MODEL_afc1315077c04916bee32e2c2646d5d4",
        "IPY_MODEL_a33c1d9bf47741e6877f6a09923ed845"
       ],
       "layout": "IPY_MODEL_ca87311e69644740b5fbb4c1d76086d0"
      }
     },
     "ed98307e48a348e2a2c20060a8c47bce": {
      "model_module": "@jupyter-widgets/base",
      "model_module_version": "1.2.0",
      "model_name": "LayoutModel",
      "state": {}
     },
     "f0370c91d5b942a598d761e971f845ed": {
      "model_module": "@jupyter-widgets/controls",
      "model_module_version": "1.5.0",
      "model_name": "DescriptionStyleModel",
      "state": {
       "description_width": ""
      }
     },
     "f1707986ffc747dda0f4997108485ec3": {
      "model_module": "@jupyter-widgets/controls",
      "model_module_version": "1.5.0",
      "model_name": "HTMLModel",
      "state": {
       "layout": "IPY_MODEL_e052e2f6b3fe49eb972493308248b005",
       "style": "IPY_MODEL_99ee9fb22c5046039e85d4f6344b1a87",
       "value": "<p><b>Dashboard: </b><a href=\"/user/rsignell-usgs-h-ke-water-levels-gxgmp8cb/proxy/8787/status\" target=\"_blank\">/user/rsignell-usgs-h-ke-water-levels-gxgmp8cb/proxy/8787/status</a></p>\n"
      }
     },
     "f1f974bd02ca485da5f00855978d99ca": {
      "model_module": "@jupyter-widgets/controls",
      "model_module_version": "1.5.0",
      "model_name": "HTMLModel",
      "state": {
       "layout": "IPY_MODEL_83268aac72194c14a848e95024d2135c",
       "style": "IPY_MODEL_d9962513f16d417d8138e25ab85da0b2",
       "value": "<div style=\"padding: 0px 10px 0px 10px; text-align: right\">65 / 65</div>"
      }
     },
     "f289244e80a54bcf90624e4ee5f7e717": {
      "model_module": "@jupyter-widgets/controls",
      "model_module_version": "1.5.0",
      "model_name": "IntTextModel",
      "state": {
       "description": "Minimum",
       "layout": "IPY_MODEL_3ca434c698bb4a888a54af6427e3a4c7",
       "step": 1,
       "style": "IPY_MODEL_d491c10e7f9c4c65bf35df80c5721fd9"
      }
     },
     "f2942b13497a4940b9ae59f9573dd8de": {
      "model_module": "@jupyter-widgets/base",
      "model_module_version": "1.2.0",
      "model_name": "LayoutModel",
      "state": {}
     },
     "f2cc50fbdc8040aca0eb433c183b6485": {
      "model_module": "@jupyter-widgets/controls",
      "model_module_version": "1.5.0",
      "model_name": "ButtonStyleModel",
      "state": {}
     },
     "f30283674ce845f2bc15fe4f8705fc37": {
      "model_module": "@jupyter-widgets/base",
      "model_module_version": "1.2.0",
      "model_name": "LayoutModel",
      "state": {}
     },
     "f450a4fb334a4e31a7957f6ef935d62a": {
      "model_module": "@jupyter-widgets/base",
      "model_module_version": "1.2.0",
      "model_name": "LayoutModel",
      "state": {}
     },
     "f5c4287c7e224928a83cb404f12bcf2e": {
      "model_module": "@jupyter-widgets/controls",
      "model_module_version": "1.5.0",
      "model_name": "HTMLModel",
      "state": {
       "layout": "IPY_MODEL_46244b84c4fa410b957ba71e0a34cb8a",
       "style": "IPY_MODEL_31c7164fc63141378888246dd152f9c3",
       "value": "<div style=\"padding: 0px 10px 0px 10px; text-align: right\">4813 / 4813</div>"
      }
     },
     "f7323c7f519f4836bac9bce7a3427d89": {
      "model_module": "@jupyter-widgets/controls",
      "model_module_version": "1.5.0",
      "model_name": "HTMLModel",
      "state": {
       "layout": "IPY_MODEL_4acf4a412c5c4bb6854ea71b46fdee2d",
       "style": "IPY_MODEL_254e3a2e6d2047c9ad8afbc2a2e894dc",
       "value": "\n<div>\n  <style scoped>\n    .dataframe tbody tr th:only-of-type {\n        vertical-align: middle;\n    }\n\n    .dataframe tbody tr th {\n        vertical-align: top;\n    }\n\n    .dataframe thead th {\n        text-align: right;\n    }\n  </style>\n  <table style=\"text-align: right;\">\n    <tr> <th>Workers</th> <td>30</td></tr>\n    <tr> <th>Cores</th> <td>60</td></tr>\n    <tr> <th>Memory</th> <td>210.00 GB</td></tr>\n  </table>\n</div>\n"
      }
     },
     "f860565f03c9460a9fcd197828d4a043": {
      "model_module": "@jupyter-widgets/base",
      "model_module_version": "1.2.0",
      "model_name": "LayoutModel",
      "state": {}
     },
     "fad4f62c9399419993153fb961830488": {
      "model_module": "@jupyter-widgets/controls",
      "model_module_version": "1.5.0",
      "model_name": "HTMLModel",
      "state": {
       "layout": "IPY_MODEL_d37fb3ecbbb14555b020111b7fb1d6e4",
       "style": "IPY_MODEL_df5fe18cd57141db86d43128f4375603",
       "value": "<div style=\"padding: 0px 10px 0px 10px; text-align: right\">4680 / 4680</div>"
      }
     },
     "fbf901b76b014589bcd19fb800b66b6a": {
      "model_module": "@jupyter-widgets/controls",
      "model_module_version": "1.5.0",
      "model_name": "HTMLModel",
      "state": {
       "layout": "IPY_MODEL_4f69a4c8c1984c66ae14dfd9e7d65601",
       "style": "IPY_MODEL_a74db149a62140d8bdd0b3ffa3d6b9de",
       "value": "<div style=\"padding: 0px 10px 0px 10px; text-align: right\">65 / 65</div>"
      }
     },
     "ff7b8038de9740508084b810f37d68bc": {
      "model_module": "@jupyter-widgets/controls",
      "model_module_version": "1.5.0",
      "model_name": "DescriptionStyleModel",
      "state": {
       "description_width": ""
      }
     }
    },
    "version_major": 2,
    "version_minor": 0
   }
  }
 },
 "nbformat": 4,
 "nbformat_minor": 4
}
